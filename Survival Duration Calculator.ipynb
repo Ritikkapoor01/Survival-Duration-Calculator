{
 "cells": [
  {
   "cell_type": "code",
   "execution_count": 2,
   "id": "078a232a",
   "metadata": {},
   "outputs": [
    {
     "name": "stdout",
     "output_type": "stream",
     "text": [
      "Please enter your birth date (YYYY-MM-DD): 2007-07-08\n",
      "195\n",
      "849\n",
      "5944\n",
      "142666.0\n",
      "8560005.0\n",
      "513600301.085622\n"
     ]
    }
   ],
   "source": [
    "# Project of Survial duration calculator\n",
    "\n",
    "#Prompt the user to input the age of the person\n",
    "\n",
    "from datetime import datetime\n",
    "\n",
    "# Function to calculate the duration\n",
    "\n",
    "def calculate_age(birth_date):\n",
    "    today = datetime.today()\n",
    "    birth_date = datetime.strptime(birth_date, '%Y-%m-%d')\n",
    "    age_in_months = (today.year - birth_date.year) * 12 + (today.month - birth_date.month)\n",
    "    age_in_weeks = (today - birth_date).days // 7\n",
    "    age_in_days = (today - birth_date).days\n",
    "    age_in_hours = (today - birth_date).total_seconds() // 3600\n",
    "    age_in_minutes = (today - birth_date).total_seconds() // 60\n",
    "    age_in_seconds = (today - birth_date).total_seconds()\n",
    "\n",
    "    return age_in_months, age_in_weeks , age_in_days, age_in_hours ,age_in_minutes, age_in_seconds\n",
    "\n",
    "\n",
    "birth_date = input(\"Please enter your birth date (YYYY-MM-DD): \")\n",
    "\n",
    "\n",
    "age_in_months ,age_in_weeks ,age_in_days ,age_in_hours ,age_in_minutes ,age_in_seconds= calculate_age(birth_date)\n",
    "\n",
    "\n",
    "print(age_in_months)\n",
    "print(age_in_weeks)\n",
    "print(age_in_days)\n",
    "print(age_in_hours)\n",
    "print(age_in_minutes)\n",
    "print(age_in_seconds) "
   ]
  },
  {
   "cell_type": "code",
   "execution_count": null,
   "id": "d0b144fc",
   "metadata": {},
   "outputs": [],
   "source": [
    "# Real-time applications:\n",
    "\n",
    "# some realtime applications to this problem tracking, including age tracker for health apps, retirement planning, age-rest.,\n",
    "# age verification. Are the some realtime apps which help to identify the age, weeks, months, days,  hours, minutes & seconds."
   ]
  },
  {
   "cell_type": "code",
   "execution_count": null,
   "id": "9755795a",
   "metadata": {},
   "outputs": [],
   "source": [
    "# Execution of the Solution:\n",
    "\n",
    "# defines the necessary functions and logic for age-to-duration conversion. You can take input for the person's age and the desired time units, and then call the function to calculate the duration. \n",
    "#Finally, you can print or display the calculated duration in the specified time units."
   ]
  }
 ],
 "metadata": {
  "kernelspec": {
   "display_name": "Python 3 (ipykernel)",
   "language": "python",
   "name": "python3"
  },
  "language_info": {
   "codemirror_mode": {
    "name": "ipython",
    "version": 3
   },
   "file_extension": ".py",
   "mimetype": "text/x-python",
   "name": "python",
   "nbconvert_exporter": "python",
   "pygments_lexer": "ipython3",
   "version": "3.11.4"
  }
 },
 "nbformat": 4,
 "nbformat_minor": 5
}
